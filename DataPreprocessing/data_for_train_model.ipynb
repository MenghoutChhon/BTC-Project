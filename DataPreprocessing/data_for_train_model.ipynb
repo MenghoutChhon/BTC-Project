{
 "cells": [
  {
   "cell_type": "code",
   "execution_count": 2,
   "metadata": {},
   "outputs": [],
   "source": [
    "import pandas as pd\n",
    "import numpy as np"
   ]
  },
  {
   "cell_type": "markdown",
   "metadata": {},
   "source": [
    "In this case, we decide to drop all other columns exclude date (Start) and Close Price, where Close is our target. This data set contains the historical data from 2012 to 2024( November)."
   ]
  },
  {
   "cell_type": "code",
   "execution_count": 3,
   "metadata": {},
   "outputs": [],
   "source": [
    "data = pd.read_csv(r'C:\\Users\\ASUS\\Desktop\\Data Ethics and Privacy\\BTC_Project\\EDA\\dataset.csv')"
   ]
  },
  {
   "cell_type": "code",
   "execution_count": 4,
   "metadata": {},
   "outputs": [
    {
     "name": "stdout",
     "output_type": "stream",
     "text": [
      "           Start       Close\n",
      "0     2024-11-19  92119.4700\n",
      "1     2024-11-18  90549.3400\n",
      "2     2024-11-17  89763.5900\n",
      "3     2024-11-16  90543.6700\n",
      "4     2024-11-15  90949.9400\n",
      "...          ...         ...\n",
      "4702  2012-01-05      6.9476\n",
      "4703  2012-01-04      5.5738\n",
      "4704  2012-01-03      4.8808\n",
      "4705  2012-01-02      5.2168\n",
      "4706  2012-01-01      5.2677\n",
      "\n",
      "[4707 rows x 2 columns]\n"
     ]
    }
   ],
   "source": [
    "df = data[['Start', 'Close']]\n",
    "\n",
    "print(df)"
   ]
  },
  {
   "cell_type": "code",
   "execution_count": 5,
   "metadata": {},
   "outputs": [
    {
     "name": "stderr",
     "output_type": "stream",
     "text": [
      "C:\\Users\\ASUS\\AppData\\Local\\Temp\\ipykernel_17500\\321798170.py:1: SettingWithCopyWarning: \n",
      "A value is trying to be set on a copy of a slice from a DataFrame.\n",
      "Try using .loc[row_indexer,col_indexer] = value instead\n",
      "\n",
      "See the caveats in the documentation: https://pandas.pydata.org/pandas-docs/stable/user_guide/indexing.html#returning-a-view-versus-a-copy\n",
      "  df['Start'] = pd.to_datetime(df['Start'])\n"
     ]
    }
   ],
   "source": [
    "df['Start'] = pd.to_datetime(df['Start'])"
   ]
  },
  {
   "cell_type": "code",
   "execution_count": 7,
   "metadata": {},
   "outputs": [],
   "source": [
    "df.to_csv('data.csv', index=False)"
   ]
  },
  {
   "cell_type": "code",
   "execution_count": null,
   "metadata": {},
   "outputs": [],
   "source": []
  }
 ],
 "metadata": {
  "kernelspec": {
   "display_name": "Python 3",
   "language": "python",
   "name": "python3"
  },
  "language_info": {
   "codemirror_mode": {
    "name": "ipython",
    "version": 3
   },
   "file_extension": ".py",
   "mimetype": "text/x-python",
   "name": "python",
   "nbconvert_exporter": "python",
   "pygments_lexer": "ipython3",
   "version": "3.11.8"
  }
 },
 "nbformat": 4,
 "nbformat_minor": 2
}
